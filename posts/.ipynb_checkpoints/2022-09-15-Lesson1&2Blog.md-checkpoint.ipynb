{
 "cells": [
  {
   "cell_type": "raw",
   "id": "938848c6",
   "metadata": {},
   "source": [
    "---\n",
    "title: \"fast.ai Lessons 1&2\"\n",
    "author: \"Adnan Jinnah\"\n",
    "date: \"2022-09-15\"\n",
    "toc: true\n",
    "number-sections: true\n",
    "jupyter: python3\n",
    "categories: [fastai]\n",
    "---"
   ]
  },
  {
   "cell_type": "markdown",
   "id": "8ab697dd",
   "metadata": {},
   "source": [
    "# Intro\n",
    "1: Getting Started and 2: Deployment"
   ]
  },
  {
   "cell_type": "markdown",
   "id": "93694571",
   "metadata": {},
   "source": [
    "# Lesson Overview\n",
    "\n",
    "The first lesson did well to summarise an introduction to model creation. While it was content I have already covered throughout previous courses, a quick refresher is good. The teaching philosophy behind the course, to learn by doing in conjunction to theory, is excellent in keeping things engaging and enjoyable. The second lesson covered many new software tools and applications very concisely. Although, I had to spend a lot of time troubleshooting various issues with getting things to work on my PC.  \n",
    "\n",
    "# The topics covered, briefly\n",
    "- How to create and train a deep learning model in FastAI\n",
    "- How to better filter and amend training data to get better model performance\n",
    "- How to export a ML model as a file\n",
    "- How to load ML models and allow websites to use them\n",
    "- How to save coding repositories online\n",
    "- How to host and create blog posts that include code easily\n",
    "\n",
    "This included Kaggle/Google Collab for creating, training and exporting models. Anaconda for Jupyter Notebooks. Visual Studio Code, a programming IDE, to interact with: HuggingFaceSpaces, a website to host models, and GitHub, a website to store one's code. It took much time and troubleshooting to understand how to install and use these tools, but the result is the understanding of how to quickly produce deep learning models and make them accessible on the internet, as well as produce blogs containing code, with good practices and expandability behind functionality."
   ]
  },
  {
   "cell_type": "markdown",
   "id": "0134f8fd",
   "metadata": {},
   "source": [
    "# Links\n",
    "\n",
    "The course page for this sessions is https://course.fast.ai/Lessons/lesson2.html, which includes a lecture, a notebook, and a set of questions from the course book. My answers can be found on my GitHub repository below. \n",
    "\n",
    "My machine learning model \"NovaOrToast\" attempts to classify whether a given cat photo is my older sister's cat Toast, or my younger sister's cat Nova. \n",
    "It can be found at https://huggingface.co/spaces/exiomius/NovaOrToast, where it is possible to upload images and get them classified immediately.\n",
    "\n",
    "My repository for this can be found at https://github.com/exiomius/NovaOrToast\n",
    "The code for the model creation and training can be found at https://www.kaggle.com/code/adnanjinnah/nova-or-toast-model-creator/edit. One must use an online GPU service like Kaggle or Google Collab to train models due to their computational intensity. It should be possible to link said services with GitHub, which would be best to keep a centralised codebase. "
   ]
  },
  {
   "cell_type": "markdown",
   "id": "2412761e",
   "metadata": {},
   "source": [
    "# The pipeline to upload a machine learning model online\n",
    "\n",
    "1. Firstly create, train and export the model using a online IDE such as Google Collab or Kaggle. This is because the training will take up much GPU computation, so it is better to avoid doing it on one's own machine.\n",
    "2. Create a Jupyter Notebook and import the fully trained model. Use a Python module called Gradio to create a local webpage of your model to test if it works on your local web adress.\n",
    "3. Convert your Jupyter Notebook into a .py file.\n",
    "4. Using HuggingFaceSpaces, create a space for your new model.\n",
    "5. Using Visual Studio Code, clone the repository of your new space, then add in your Jupyter Notebook's, .py file after conversion. \n",
    "6. Create a 'requirements'.txt including the modules used so that HuggingFaceSpaces can install them as required.\n",
    "7. Using Visual Studio Code, use Git to push your update to HuggingFaceSpaces. \n",
    "8. After a few minutes, your model will be avaliable on the HuggingFaceSpaces space you created. The progress behind this will be available to see on your GitHub repository under the 'actions' tab. \n",
    "\n",
    "Not included are many many details of how to specifically do these instructions, as there are too many to throughly convey, especially as much time was spend troubleshooting for my specific machine and operating system (Windows).\n",
    "\n",
    "# Things to improve:\n",
    "- A better way to convert Jupyter Notebooks to .py files. It seems to work only with a settings.ini file, but I was not able to create one that works myself, so had to copy one on the course director's GitHub, which works but I cannot figure out how to  place the resulting .py file in the correct folder.\n",
    "- How to upload Kaggle code to GitHub seamlessly.  \n",
    "- A way to automatically update Anaconda's modules. The default Anaconda update prompts update the app but not always the modules I require. For instance, it took me a while to figure out the Python Pillow module wasn't updated on Anaconda despite it being a fresh installation. "
   ]
  }
 ],
 "metadata": {
  "kernelspec": {
   "display_name": "Python 3 (ipykernel)",
   "language": "python",
   "name": "python3"
  }
 },
 "nbformat": 4,
 "nbformat_minor": 5
}
