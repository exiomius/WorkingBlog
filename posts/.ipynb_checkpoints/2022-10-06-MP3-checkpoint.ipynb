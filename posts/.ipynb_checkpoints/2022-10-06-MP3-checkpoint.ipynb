{
 "cells": [
  {
   "cell_type": "raw",
   "id": "bcfa07ce",
   "metadata": {},
   "source": [
    "---\n",
    "title: \"Masters Project 11/10/2022\"\n",
    "author: \"Adnan Jinnah\"\n",
    "date: \"2022-10-11\"\n",
    "toc: true\n",
    "number-sections: true\n",
    "jupyter: python3\n",
    "categories: [Masters]\n",
    "---"
   ]
  },
  {
   "cell_type": "markdown",
   "id": "62e7b380",
   "metadata": {},
   "source": [
    "# Intro\n",
    "The third post from a series of posts about my Masters project with the Physics Department at Durham University."
   ]
  },
  {
   "cell_type": "markdown",
   "id": "ed599683",
   "metadata": {},
   "source": [
    "# Meeting:\n",
    "## During the meeting we discussed:\n",
    "- How to introduce more Physics into the project. This would be done namely using stereo audio, which is audio recorded in 3 dimensions. The idea is that using the Doppler effect and other Physics concepts, we could come up with a better audio collection technique that would make the model classification better. However, it may take a lot of time and effort to understand how to setup multiple microphones and analyse their data, given that there are features such as their synchronisation, batteries, and calibration. In total we have around 90 microphones? Because stereo is 3D, we could use it to classify where a bird singing is, and multiple birds singing. Would also need to account for audio reflecting off surfaces.\n",
    "- A previous masters student at Durham, Stuart, worked with the biology department to create his thesis which may contain useful domain knowledge for this project. It can be found at http://etheses.dur.ac.uk/11481/. He is now doing a PhD in Scotland and his further work may be worth looking into, or he may be worth directly getting in contact with to collaborate.\n",
    "- The biology department have published a paper 3 years ago about using a ensemble models to classify the cocktail problem. While the models and approach may be outdated, the data preprocessing steps might be similar to what I would have to do now.\n",
    "- I would have to have a look at the collected datasets to get an idea about their properties and train accordingly. Some of their data was painstakenly hand labeled.\n",
    "- For humans, some bird song is easier classified by image, and some by sound. I suppose this is why ensembles are a good approach. \n",
    "- For the aims of this project, I would need to define a custom metric for the biology department's needs. For example, if we really want a certain species of bird, we could penalise false positives of it very harshly. \n",
    "- About volunteer interaction: some birds are really hard to classify that even professors struggle. If you were to have a volunteer system, you should have a delegation system to assign hard tasks to experienced users.\n",
    "- Because humans have to listen to the same audio file multiple times to recognise birds, I wonder if we can train or apply a model this way.\n",
    "- Training on bad quality data, which xeno-canto labels, might be a good idea to improve generalisability.\n",
    "- Some bird species have different times at which they sing in the day, so it could be worthwhile including this in the training data somehow.\n",
    "- An interesting problem is say, looking at how the frequency of a rare species changes over time in a given area. Since we have a dataset collected over 3 years, this in theory would be possible. "
   ]
  },
  {
   "cell_type": "markdown",
   "id": "89b80e64",
   "metadata": {},
   "source": [
    "# Problem clarification\n",
    "\n",
    "## There are two separate and related problems for classifying birdsong:\n",
    "- The easier problem, trying to classify birds from an audio recording of their song in a vacuum.\n",
    "- The harder problem, trying to classify birds from an audio recording of their song in a noisy environment.\n",
    "\n",
    "My Masters project is attempting the latter problem. However some testing and knowledge of the former problem is worthwhile regardless."
   ]
  },
  {
   "cell_type": "markdown",
   "id": "9285a7d7",
   "metadata": {},
   "source": [
    "# Work done \n",
    "\n",
    "### Practiced CNNs and the easier classification problem:\n",
    "- Because this project will use CNNs, I revised the code for a basic image classifier at https://www.kaggle.com/adnanjinnah/bird-image-classifier/.\n",
    "- More interestingly, I found a blog post online https://medium.com/mlearning-ai/bird-sound-calssification-using-fastaudio-fastai-49eea9b5953a that attempts to solve the easier classification problem. It uses the intuitive classification approach present in one of the project's proposal references: convert the audio into an image and use a CNN. The post also shows how to download birdsong audio directly from https://xeno-canto.org/?language=en, a volunteer website dedicated to collecting wildlife sounds. I figured out how to download and label birdsong audio of different species. My code is at https://www.kaggle.com/adnanjinnah/birdsong-easy-1-0/\n",
    "\n",
    "\n",
    "### Did research about modern approaches:\n",
    "\n",
    "There is a small google research group with a webpage at https://bird-mixit.github.io/\n",
    "They have published a paper \"IMPROVING BIRD CLASSIFICATION WITH UNSUPERVISED SOUND SEPARATION\" at https://arxiv.org/pdf/2110.03209.pdf. They have not yet released their classification model online, but have released their sound-separation model at https://github.com/google-research/sound-separation/tree/master/models/bird_mixit.\n",
    "\n",
    "Furthermore, in their paper they talk about a Kaggle competition, BirdCLEF, at https://www.kaggle.com/competitions/birdclef-2022/overview hosted by the Cornell Lab of Ornithology with a $10,000 prize pool. The competition is recent, ending four months ago. While the google team's results are better, this competition contains the code of the participants, including the winner, as well as discussion threads about them. \n",
    "\n",
    "Reverse engineering the competition code may be invaluable to my Masters. To do so however, knowledge from fast.ai part 2 will likely be required as well as a lot of time and effort. Thankfully, Kaggle allows you to post your models and see how they would compare on the leaderboard, so I can continuously try different approaches and evaluate how good they are.\n",
    "\n",
    "An important point is that the google team nor Kaggle competition use accuracy as their final metric. While accuracy initially may seem intuitive to understand, there are many issues with it. That's why the competition used a metric called F1, which is explained by deepmind at https://deepai.org/machine-learning-glossary-and-terms/f-score, and another post about interpreting it at https://inside.getyourguide.com/blog/2020/9/30/what-makes-a-good-f1-score.\n",
    "\n",
    "### Finished the fast.ai part 1 course lectures, questions, and blog posts:\n",
    "\n",
    "The last two lessons I completed this week can be found at\n",
    "https://exiomius.github.io/Blogs/fast.ai1/2022/09/27/Lesson7Blog.md.html \n",
    "and https://exiomius.github.io/Blogs/fast.ai1/2022/09/27/Lesson8Blog.md.html\n",
    "\n",
    "Although I've technically finished the course, the knowledge hasn't been properly internalised until I spend more time creating models and testing things out. For this reason, the course creator Jeremy says that it's entirely normal to finish the course and spend months afterwards revising and practicing it. For now though, it should be enough to start the second half and continue to learn as I practice."
   ]
  },
  {
   "cell_type": "markdown",
   "id": "396d7500",
   "metadata": {},
   "source": [
    "# Kaggle Competitions:\n",
    "In theory, the biology department could put up a Kaggle competition for their own exact needs with/without prize money and see what users submit. This would however still require knowledge about how to upload their data, create correct training, validation, and test data, set the correct metrics, interpret the data, and check that submissions are valid."
   ]
  }
 ],
 "metadata": {
  "kernelspec": {
   "display_name": "Python 3 (ipykernel)",
   "language": "python",
   "name": "python3"
  }
 },
 "nbformat": 4,
 "nbformat_minor": 5
}
