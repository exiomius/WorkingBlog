{
 "cells": [
  {
   "cell_type": "raw",
   "id": "247584b4",
   "metadata": {},
   "source": [
    "---\n",
    "title: \"Masters Project 25/10/2022\"\n",
    "author: \"Adnan Jinnah\"\n",
    "date: \"2022-10-25\"\n",
    "toc: true\n",
    "number-sections: true\n",
    "jupyter: python3\n",
    "categories: [Masters]\n",
    "---"
   ]
  },
  {
   "cell_type": "markdown",
   "id": "12ee4e76",
   "metadata": {},
   "source": [
    "# Intro\n",
    "(This post is still in progress).\n",
    "The fifth post from a series of posts about my Masters project with the Physics Department at Durham University."
   ]
  },
  {
   "cell_type": "markdown",
   "id": "ed599683",
   "metadata": {},
   "source": [
    "# Meeting:\n",
    "## During the meeting we discussed:"
   ]
  },
  {
   "cell_type": "markdown",
   "id": "7ffed022",
   "metadata": {},
   "source": [
    "# Problem idea update\n"
   ]
  },
  {
   "cell_type": "markdown",
   "id": "68b9c7d0",
   "metadata": {},
   "source": [
    "# Work to do:\n"
   ]
  },
  {
   "cell_type": "markdown",
   "id": "9285a7d7",
   "metadata": {},
   "source": [
    "# Work done \n",
    "\n"
   ]
  }
 ],
 "metadata": {
  "kernelspec": {
   "display_name": "Python 3 (ipykernel)",
   "language": "python",
   "name": "python3"
  }
 },
 "nbformat": 4,
 "nbformat_minor": 5
}
