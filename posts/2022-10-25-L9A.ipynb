{
 "cells": [
  {
   "cell_type": "raw",
   "id": "b4d0a5d3",
   "metadata": {},
   "source": [
    "---\n",
    "title: \"fast.ai Lesson 9A\"\n",
    "author: \"Adnan Jinnah\"\n",
    "date: \"2022-10-25\"\n",
    "toc: true\n",
    "number-sections: true\n",
    "jupyter: python3\n",
    "categories: [fastai]\n",
    "---"
   ]
  },
  {
   "cell_type": "markdown",
   "id": "6c7d2acf",
   "metadata": {},
   "source": [
    "# Intro\n",
    "(This post is in progress) Part A) of the ninth lesson of fast.ai, covering a deep dive notebook into stable diffusion."
   ]
  },
  {
   "cell_type": "markdown",
   "id": "1ea78352",
   "metadata": {},
   "source": [
    "# Lesson Overview"
   ]
  },
  {
   "cell_type": "markdown",
   "id": "2c993164",
   "metadata": {},
   "source": [
    "# The topics covered, briefly"
   ]
  },
  {
   "cell_type": "markdown",
   "id": "8fb1fbf2",
   "metadata": {},
   "source": [
    "# Lecture Notes\n",
    "\n"
   ]
  },
  {
   "cell_type": "markdown",
   "id": "7e33becb",
   "metadata": {},
   "source": [
    "# Links\n",
    "- As I am doing this course as it is released privately live, I cannot share links to the lesson."
   ]
  }
 ],
 "metadata": {
  "kernelspec": {
   "display_name": "Python 3 (ipykernel)",
   "language": "python",
   "name": "python3"
  }
 },
 "nbformat": 4,
 "nbformat_minor": 5
}
